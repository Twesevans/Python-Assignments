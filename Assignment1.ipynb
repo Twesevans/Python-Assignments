{
 "cells": [
  {
   "cell_type": "code",
   "execution_count": 2,
   "id": "0dc5e4b1",
   "metadata": {},
   "outputs": [],
   "source": [
    "def greet(*message):\n",
    "    for m in message:\n",
    "        print(m)"
   ]
  },
  {
   "cell_type": "code",
   "execution_count": 3,
   "id": "f9c53e1b",
   "metadata": {},
   "outputs": [
    {
     "name": "stdout",
     "output_type": "stream",
     "text": [
      "hii\n",
      "all\n"
     ]
    }
   ],
   "source": [
    "greet ('hii','all')"
   ]
  },
  {
   "cell_type": "code",
   "execution_count": 131,
   "id": "30e38576",
   "metadata": {},
   "outputs": [
    {
     "name": "stdout",
     "output_type": "stream",
     "text": [
      "message\n"
     ]
    }
   ],
   "source": [
    "greet('message')"
   ]
  },
  {
   "cell_type": "code",
   "execution_count": null,
   "id": "0fa4eada",
   "metadata": {},
   "outputs": [],
   "source": []
  },
  {
   "cell_type": "code",
   "execution_count": 53,
   "id": "072a8a12",
   "metadata": {},
   "outputs": [],
   "source": [
    "def describe_pet(pet_type,pet_name):\n",
    "    print(f\"\\n I have a {pet_type}\")\n",
    "    print(f\"my {pet_type}'s name is {pet_name.title()}\")"
   ]
  },
  {
   "cell_type": "code",
   "execution_count": 54,
   "id": "9a5e9fd5",
   "metadata": {},
   "outputs": [
    {
     "name": "stdout",
     "output_type": "stream",
     "text": [
      "\n",
      " I have a dog\n",
      "my dog's name is Bruno\n"
     ]
    }
   ],
   "source": [
    "describe_pet('dog','bruno')"
   ]
  },
  {
   "cell_type": "code",
   "execution_count": null,
   "id": "537f2613",
   "metadata": {},
   "outputs": [],
   "source": []
  },
  {
   "cell_type": "code",
   "execution_count": null,
   "id": "ebfd766b",
   "metadata": {},
   "outputs": [],
   "source": [
    "### Quiz 01"
   ]
  },
  {
   "cell_type": "code",
   "execution_count": 16,
   "id": "f32ca85d",
   "metadata": {},
   "outputs": [],
   "source": [
    "##### T-shirts ----Positional Argument"
   ]
  },
  {
   "cell_type": "code",
   "execution_count": 47,
   "id": "b007cec3",
   "metadata": {},
   "outputs": [],
   "source": [
    "def make_shirt(size,text):\n",
    "   ### ***display the size and textthat should be printed***\n",
    "\n",
    "    print(f\"Size of your t-shirt is {size}\")\n",
    "    print(f\"\\n{text}\")\n",
    "    print(f\"\\n Here am using positional Argument\")"
   ]
  },
  {
   "cell_type": "code",
   "execution_count": 48,
   "id": "e0183d17",
   "metadata": {},
   "outputs": [
    {
     "name": "stdout",
     "output_type": "stream",
     "text": [
      "Size of your t-shirt is 35cm\n",
      "\n",
      "Thanks for supporting us\n"
     ]
    }
   ],
   "source": [
    "make_shirt('35cm','Thanks for supporting us')"
   ]
  },
  {
   "cell_type": "code",
   "execution_count": null,
   "id": "f3a19f1b",
   "metadata": {},
   "outputs": [],
   "source": [
    "#### T-shirt using keyword Argument"
   ]
  },
  {
   "cell_type": "code",
   "execution_count": 61,
   "id": "b4830eb0",
   "metadata": {},
   "outputs": [],
   "source": [
    "def make_shirt(size,text):\n",
    "\n",
    "    print(f\"Size of your t-shirt is {size}\")\n",
    "    print(f\"\\n{text}\")\n",
    "    print(f\"\\n Here am using Keyword Argument\")"
   ]
  },
  {
   "cell_type": "code",
   "execution_count": 62,
   "id": "61540baf",
   "metadata": {},
   "outputs": [
    {
     "name": "stdout",
     "output_type": "stream",
     "text": [
      "Size of your t-shirt is 35cm\n",
      "\n",
      "Thanks for supporting us\n",
      "\n",
      " Here am using Keyword Argument\n"
     ]
    }
   ],
   "source": [
    "make_shirt(size='35cm',text='Thanks for supporting us')"
   ]
  },
  {
   "cell_type": "code",
   "execution_count": null,
   "id": "ddf1b4f1",
   "metadata": {},
   "outputs": [],
   "source": []
  },
  {
   "cell_type": "code",
   "execution_count": null,
   "id": "2753f756",
   "metadata": {},
   "outputs": [],
   "source": [
    "### Quiz 02"
   ]
  },
  {
   "cell_type": "code",
   "execution_count": null,
   "id": "eb87e6df",
   "metadata": {},
   "outputs": [],
   "source": [
    "#### Python Codes for making Large shirts"
   ]
  },
  {
   "cell_type": "code",
   "execution_count": 64,
   "id": "d8d58853",
   "metadata": {},
   "outputs": [],
   "source": [
    "def large_shirts(size,text):\n",
    "    print(f\"\\n The size of your shirt is {size}\")\n",
    "    print(f\"\\n {text}\")"
   ]
  },
  {
   "cell_type": "code",
   "execution_count": 66,
   "id": "e830f8c7",
   "metadata": {},
   "outputs": [
    {
     "name": "stdout",
     "output_type": "stream",
     "text": [
      "\n",
      " The size of your shirt is large\n",
      "\n",
      " I love Python\n"
     ]
    }
   ],
   "source": [
    "large_shirts('large','I love Python')"
   ]
  },
  {
   "cell_type": "code",
   "execution_count": null,
   "id": "79174506",
   "metadata": {},
   "outputs": [],
   "source": []
  },
  {
   "cell_type": "code",
   "execution_count": 81,
   "id": "33fe011d",
   "metadata": {},
   "outputs": [],
   "source": [
    "def make_shirt(size,text='I love python'):\n",
    "    if  size=='large':\n",
    "        print(f\"Size of the shirt is {size}\")\n",
    "        print(f\"\\n {text}\")\n",
    "    elif size=='medium':\n",
    "        print(f\"Size of the shirt is {size}\")\n",
    "        print(f\"\\n {text}\")\n",
    "        \n",
    "    else :\n",
    "            print(f\"Size of the shirt is {size}\")\n",
    "            print(\"\\n This is good\")"
   ]
  },
  {
   "cell_type": "code",
   "execution_count": 82,
   "id": "1c3ae6df",
   "metadata": {},
   "outputs": [
    {
     "name": "stdout",
     "output_type": "stream",
     "text": [
      "Size of the shirt is large\n",
      "\n",
      " I love python\n"
     ]
    }
   ],
   "source": [
    "make_shirt('large')"
   ]
  },
  {
   "cell_type": "code",
   "execution_count": null,
   "id": "8426fdbd",
   "metadata": {},
   "outputs": [],
   "source": []
  },
  {
   "cell_type": "code",
   "execution_count": 83,
   "id": "5308a31d",
   "metadata": {},
   "outputs": [
    {
     "name": "stdout",
     "output_type": "stream",
     "text": [
      "Size of the shirt is medium\n",
      "\n",
      " I love python\n"
     ]
    }
   ],
   "source": [
    "make_shirt('medium')"
   ]
  },
  {
   "cell_type": "code",
   "execution_count": null,
   "id": "b60f9d93",
   "metadata": {},
   "outputs": [],
   "source": []
  },
  {
   "cell_type": "code",
   "execution_count": 84,
   "id": "6f8e8f01",
   "metadata": {},
   "outputs": [
    {
     "name": "stdout",
     "output_type": "stream",
     "text": [
      "Size of the shirt is 42\n",
      "\n",
      " This is good\n"
     ]
    }
   ],
   "source": [
    "make_shirt(size='42')"
   ]
  },
  {
   "cell_type": "code",
   "execution_count": null,
   "id": "d09c2790",
   "metadata": {},
   "outputs": [],
   "source": []
  },
  {
   "cell_type": "code",
   "execution_count": null,
   "id": "5f7b6d02",
   "metadata": {},
   "outputs": [],
   "source": [
    "#### Cities"
   ]
  },
  {
   "cell_type": "code",
   "execution_count": 129,
   "id": "944b30d6",
   "metadata": {},
   "outputs": [],
   "source": [
    "def describe_city(city_name,city_country='Iceland', text='This is a capital city'):\n",
    "        if  city_name =='Reykjavik':\n",
    "            print(f\"{city_name} is in {city_country}\")\n",
    "            print(f\"\\n {text}\")\n",
    "        \n",
    "        elif city_name=='Akureyri':\n",
    "            print(f\"{city_name} is in {city_country}\")\n",
    "            print(f\"\\n {text}\")\n",
    "        \n",
    "        elif city_name=='Kampala':\n",
    "            print(f\"{city_name} is not in {city_country}\")\n",
    "            print(f\"\\n This is found in Uganda\")\n",
    "        \n",
    "        else :\n",
    "            print(f\"{text} within Africa\")\n",
    "            print(\"\\n All the above are capital cities.\")"
   ]
  },
  {
   "cell_type": "code",
   "execution_count": 123,
   "id": "2ba9b924",
   "metadata": {},
   "outputs": [
    {
     "name": "stdout",
     "output_type": "stream",
     "text": [
      "Reykjavik is in Iceland\n",
      "\n",
      " This is a capital city\n"
     ]
    }
   ],
   "source": [
    "describe_city('Reykjavik')"
   ]
  },
  {
   "cell_type": "code",
   "execution_count": null,
   "id": "f8f16c1a",
   "metadata": {},
   "outputs": [],
   "source": []
  },
  {
   "cell_type": "code",
   "execution_count": 124,
   "id": "644a7217",
   "metadata": {},
   "outputs": [
    {
     "name": "stdout",
     "output_type": "stream",
     "text": [
      "Akureyri is in Iceland\n",
      "\n",
      " This is a capital city\n"
     ]
    }
   ],
   "source": [
    "describe_city('Akureyri')"
   ]
  },
  {
   "cell_type": "code",
   "execution_count": null,
   "id": "73878461",
   "metadata": {},
   "outputs": [],
   "source": []
  },
  {
   "cell_type": "code",
   "execution_count": 125,
   "id": "8b4d834f",
   "metadata": {},
   "outputs": [
    {
     "name": "stdout",
     "output_type": "stream",
     "text": [
      "Kampala is not in Iceland\n",
      "\n",
      " This is found in Uganda\n"
     ]
    }
   ],
   "source": [
    "describe_city('Kampala')"
   ]
  },
  {
   "cell_type": "code",
   "execution_count": null,
   "id": "3cc8a259",
   "metadata": {},
   "outputs": [],
   "source": []
  },
  {
   "cell_type": "code",
   "execution_count": 130,
   "id": "ad50fd8b",
   "metadata": {},
   "outputs": [
    {
     "name": "stdout",
     "output_type": "stream",
     "text": [
      "This is a capital city within Africa\n",
      "\n",
      " All the above are capital cities.\n"
     ]
    }
   ],
   "source": [
    "describe_city('Nairobi')"
   ]
  },
  {
   "cell_type": "code",
   "execution_count": null,
   "id": "f3d64e8d",
   "metadata": {},
   "outputs": [],
   "source": []
  },
  {
   "cell_type": "code",
   "execution_count": null,
   "id": "ad7746de",
   "metadata": {},
   "outputs": [],
   "source": []
  },
  {
   "cell_type": "code",
   "execution_count": null,
   "id": "bf200062",
   "metadata": {},
   "outputs": [],
   "source": []
  }
 ],
 "metadata": {
  "kernelspec": {
   "display_name": "Python 3",
   "language": "python",
   "name": "python3"
  },
  "language_info": {
   "codemirror_mode": {
    "name": "ipython",
    "version": 3
   },
   "file_extension": ".py",
   "mimetype": "text/x-python",
   "name": "python",
   "nbconvert_exporter": "python",
   "pygments_lexer": "ipython3",
   "version": "3.8.8"
  }
 },
 "nbformat": 4,
 "nbformat_minor": 5
}
