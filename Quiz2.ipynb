{
 "cells": [
  {
   "cell_type": "code",
   "execution_count": 3,
   "id": "65a3e2f7",
   "metadata": {},
   "outputs": [],
   "source": [
    "import numpy as np"
   ]
  },
  {
   "cell_type": "code",
   "execution_count": 4,
   "id": "3f472010",
   "metadata": {},
   "outputs": [],
   "source": [
    "s=np.genfromtxt('salary.csv', delimiter=',')"
   ]
  },
  {
   "cell_type": "code",
   "execution_count": 5,
   "id": "21e007db",
   "metadata": {},
   "outputs": [
    {
     "data": {
      "text/plain": [
       "array([60000., 58000., 56967., ..., 54647., 25000., 70000.])"
      ]
     },
     "execution_count": 5,
     "metadata": {},
     "output_type": "execute_result"
    }
   ],
   "source": [
    "s"
   ]
  },
  {
   "cell_type": "code",
   "execution_count": null,
   "id": "a98cbe47",
   "metadata": {},
   "outputs": [],
   "source": []
  },
  {
   "cell_type": "code",
   "execution_count": 7,
   "id": "18110367",
   "metadata": {},
   "outputs": [],
   "source": [
    "##### Mean value for s"
   ]
  },
  {
   "cell_type": "code",
   "execution_count": 8,
   "id": "0fd78e44",
   "metadata": {},
   "outputs": [],
   "source": [
    "mean=np.mean(s)"
   ]
  },
  {
   "cell_type": "code",
   "execution_count": 9,
   "id": "dff3e2da",
   "metadata": {},
   "outputs": [
    {
     "name": "stdout",
     "output_type": "stream",
     "text": [
      "55894.53879686138\n"
     ]
    }
   ],
   "source": [
    "print(mean)"
   ]
  },
  {
   "cell_type": "code",
   "execution_count": null,
   "id": "5461c2d4",
   "metadata": {},
   "outputs": [],
   "source": []
  },
  {
   "cell_type": "code",
   "execution_count": 10,
   "id": "39894668",
   "metadata": {},
   "outputs": [],
   "source": [
    "##### meadian value for s"
   ]
  },
  {
   "cell_type": "code",
   "execution_count": 12,
   "id": "261db0ed",
   "metadata": {},
   "outputs": [],
   "source": [
    "median=np.median(s)"
   ]
  },
  {
   "cell_type": "code",
   "execution_count": 13,
   "id": "724a38b9",
   "metadata": {},
   "outputs": [
    {
     "name": "stdout",
     "output_type": "stream",
     "text": [
      "55894.53879686138\n"
     ]
    }
   ],
   "source": [
    "print(mean)"
   ]
  },
  {
   "cell_type": "code",
   "execution_count": null,
   "id": "904cf8fd",
   "metadata": {},
   "outputs": [],
   "source": []
  },
  {
   "cell_type": "code",
   "execution_count": 14,
   "id": "37e46292",
   "metadata": {},
   "outputs": [],
   "source": [
    "##### standard deviation for s"
   ]
  },
  {
   "cell_type": "code",
   "execution_count": 15,
   "id": "bc240e68",
   "metadata": {},
   "outputs": [],
   "source": [
    "std=np.std(s)"
   ]
  },
  {
   "cell_type": "code",
   "execution_count": 16,
   "id": "36aff99e",
   "metadata": {},
   "outputs": [
    {
     "name": "stdout",
     "output_type": "stream",
     "text": [
      "55170.37550939316\n"
     ]
    }
   ],
   "source": [
    "print(std)"
   ]
  },
  {
   "cell_type": "code",
   "execution_count": null,
   "id": "799f8691",
   "metadata": {},
   "outputs": [],
   "source": []
  },
  {
   "cell_type": "code",
   "execution_count": 17,
   "id": "ec48d4eb",
   "metadata": {},
   "outputs": [],
   "source": [
    "##### varaince for s"
   ]
  },
  {
   "cell_type": "code",
   "execution_count": 18,
   "id": "477a0db7",
   "metadata": {},
   "outputs": [],
   "source": [
    "varaince=np.var(s)"
   ]
  },
  {
   "cell_type": "code",
   "execution_count": 20,
   "id": "158d2f1f",
   "metadata": {},
   "outputs": [
    {
     "name": "stdout",
     "output_type": "stream",
     "text": [
      "3043770333.8474483\n"
     ]
    }
   ],
   "source": [
    "print(varaince)"
   ]
  },
  {
   "cell_type": "code",
   "execution_count": null,
   "id": "c6e2e60b",
   "metadata": {},
   "outputs": [],
   "source": []
  },
  {
   "cell_type": "code",
   "execution_count": 22,
   "id": "49e9e6e1",
   "metadata": {},
   "outputs": [],
   "source": [
    "#### average for s"
   ]
  },
  {
   "cell_type": "code",
   "execution_count": 23,
   "id": "c0106334",
   "metadata": {},
   "outputs": [],
   "source": [
    "average=np.average(s)"
   ]
  },
  {
   "cell_type": "code",
   "execution_count": 24,
   "id": "db1b9f09",
   "metadata": {},
   "outputs": [
    {
     "name": "stdout",
     "output_type": "stream",
     "text": [
      "55894.53879686138\n"
     ]
    }
   ],
   "source": [
    "print(average)"
   ]
  },
  {
   "cell_type": "code",
   "execution_count": null,
   "id": "947fddd2",
   "metadata": {},
   "outputs": [],
   "source": []
  }
 ],
 "metadata": {
  "kernelspec": {
   "display_name": "Python 3",
   "language": "python",
   "name": "python3"
  },
  "language_info": {
   "codemirror_mode": {
    "name": "ipython",
    "version": 3
   },
   "file_extension": ".py",
   "mimetype": "text/x-python",
   "name": "python",
   "nbconvert_exporter": "python",
   "pygments_lexer": "ipython3",
   "version": "3.8.8"
  }
 },
 "nbformat": 4,
 "nbformat_minor": 5
}
